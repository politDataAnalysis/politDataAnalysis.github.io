{
 "cells": [
  {
   "cell_type": "markdown",
   "metadata": {},
   "source": [
    "# <font color='black'> Практическое занятие 2 </font>\n",
    "## <font color='black'> Анализ панельных данных: часть 1. Модели с фиксированными эффектами (FE-models)</font>\n",
    "Типичные панельные данные имеют как пространственное, так и временное измерение. К примеру, наблюдения для одной страны представлены за несколько лет. При такой структуре данных наивно было бы полагать, что условие о независимости наблюдений соблюдается. Наблюдения \"внутри\" одной пространственной единицы, разумеется, связаны. В этом случае мы не можем применять классическую линейную регрессию. В качестве альтернативы выступают широко применяемые модели с фиксированными эффектами. \n",
    "Кратко о данных, с которыми мы сегодня будем работать:\n",
    "* country -  страна: массив содержит данные по 27 посткоммунистическим странам\n",
    "* period - период: данные усреднены по пятилеткам начиная с 1989 г. \n",
    "* fh_polity - индекс демократии, полученный на основе показателей Freedom House, Polity. Непрерывная шкала от 0 до 10, где 10 означает максимальное значение уровня демократии. \n",
    "* state_capacity - индекс государственной состоятельности. Приведен к непрерывной шкале от 0 до 10, где 10 - наиболее высокое значение государственной состоятельности. \n",
    "\n",
    "Подгрузим необходимые библиотеки и откроем массив \"lab2.dta\". "
   ]
  },
  {
   "cell_type": "code",
   "execution_count": null,
   "metadata": {
    "scrolled": false
   },
   "outputs": [],
   "source": [
    "import pandas as pd\n",
    "import statsmodels.formula.api as statf \n",
    "import numpy as np\n",
    "import numpy.linalg as la\n",
    "import seaborn as sb \n",
    "!pip install linearmodels\n",
    "from linearmodels import PanelOLS\n",
    "from scipy import stats"
   ]
  },
  {
   "cell_type": "code",
   "execution_count": null,
   "metadata": {},
   "outputs": [],
   "source": [
    "data = pd.read_stata(\"lab2.dta\")\n",
    "data.head(10)"
   ]
  },
  {
   "cell_type": "markdown",
   "metadata": {},
   "source": [
    "В нашей первой модели мы учтем разные \"стартовые\" условия. Для этого добавим дамми-переменные на страну. Проинтерпретируйте оценки model1. Почему в данном случае мы получаем большой R-squared? "
   ]
  },
  {
   "cell_type": "code",
   "execution_count": null,
   "metadata": {},
   "outputs": [],
   "source": [
    "model1 = statf.ols(formula = 'fh_polity ~ state_capacity + C(country)', data = data).fit()\n",
    "print(model1.summary())"
   ]
  },
  {
   "cell_type": "markdown",
   "metadata": {},
   "source": [
    "Как Вы уже могли заметить выше, Python по умолчанию в качестве базовой категории (относительно которой происходит сравнение) выбирает первую пространственную единицу. При этом не всегда удобно интерпретировать относительно первой категории. Ниже рассмотрим, как можно изменить базовую категорию. Проинтерпретируйте оценки model1_2. "
   ]
  },
  {
   "cell_type": "code",
   "execution_count": null,
   "metadata": {},
   "outputs": [],
   "source": [
    "data['country1'] = pd.Categorical(data.country)\n",
    "model1_2 = statf.ols(formula = 'fh_polity ~ state_capacity +C(country1, Treatment(\"Russia\"))', data = data).fit()\n",
    "print(model1_2.summary())"
   ]
  },
  {
   "cell_type": "markdown",
   "metadata": {},
   "source": [
    "Сохраним предсказанные значения из модели. "
   ]
  },
  {
   "cell_type": "code",
   "execution_count": null,
   "metadata": {},
   "outputs": [],
   "source": [
    "data['ypredicted'] = model1.predict()\n",
    "data.head(10)"
   ]
  },
  {
   "cell_type": "markdown",
   "metadata": {},
   "source": [
    "На следующем шаге оценим модель с внутригрупповым преобразованием. Вспомните, в чем ее отличие от LSDV-модели (модели с дамми-переменными), почему часто используется именно такая спецификация с внутригрупповым преобразованием. Обратите внимание на то, что для того, чтобы в Python оценить FE-модели и RE-модели, нужно предварительно указать, какая переменная показывает пространственное измерение, а какая - временное. \n",
    "* Проинтерпретируйте оценки model2. \n",
    "* Проинтерпретируйте значения F-test for Poolability. "
   ]
  },
  {
   "cell_type": "code",
   "execution_count": null,
   "metadata": {},
   "outputs": [],
   "source": [
    "data1 = data.set_index(['country', 'period'])\n",
    "model2 = PanelOLS.from_formula('fh_polity ~ state_capacity + EntityEffects', data = data1).fit()\n",
    "print(model2)"
   ]
  },
  {
   "cell_type": "markdown",
   "metadata": {},
   "source": [
    "Проверим, действительно ли FE-модель хорошо объясняет зависимую переменную. Оценим корреляцию зависимой переменной (наблюдаемого отклика) и предсказанного значения отклика по подгруппам. Если корреляция низкая (по модулю), то это говорит о том, что мы плохо объясняем моделью то, что происходит в данной группе (стране). Переоценим модель на подвыборке тех стран, для которых корреляцию по модулю больше 0.3 и посмотрим, сохранились ли наши результаты.  "
   ]
  },
  {
   "cell_type": "code",
   "execution_count": null,
   "metadata": {},
   "outputs": [],
   "source": [
    "groups_data = pd.DataFrame(data.groupby('country')['ypredicted'].corr(data['fh_polity']))\n",
    "def grouping(series): \n",
    "    if abs(series) < 0.3: return 0 \n",
    "    elif abs(series) >= 0.3: return 1\n",
    "\n",
    "groups_data['group'] = groups_data['ypredicted'].apply(grouping)\n",
    "data_merged = pd.merge(data, groups_data, on = 'country')\n",
    "data_merged.rename(columns = {\"ypredicted_y\":\"corr\"})"
   ]
  },
  {
   "cell_type": "code",
   "execution_count": null,
   "metadata": {},
   "outputs": [],
   "source": [
    "high = data_merged[data_merged['group']==1]\n",
    "low = data_merged[data_merged['group']==0]\n",
    "model5 = statf.ols(formula = 'fh_polity ~ state_capacity + C(country)', data = high).fit()\n",
    "print(model5.summary())"
   ]
  }
 ],
 "metadata": {
  "kernelspec": {
   "display_name": "Python 3",
   "language": "python",
   "name": "python3"
  },
  "language_info": {
   "codemirror_mode": {
    "name": "ipython",
    "version": 3
   },
   "file_extension": ".py",
   "mimetype": "text/x-python",
   "name": "python",
   "nbconvert_exporter": "python",
   "pygments_lexer": "ipython3",
   "version": "3.7.1"
  }
 },
 "nbformat": 4,
 "nbformat_minor": 2
}

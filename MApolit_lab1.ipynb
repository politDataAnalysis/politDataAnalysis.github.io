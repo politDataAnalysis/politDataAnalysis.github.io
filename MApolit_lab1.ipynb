{
 "cells": [
  {
   "cell_type": "markdown",
   "metadata": {},
   "source": [
    "# <font color='black'>Практическое занятие 1 </font>\n",
    "## <font color='black'>Модели с переменными взаимодействия </font>\n",
    "Так как мы в рамках курса еще не знакомились с методами анализа панельных данных, для отработки моделей с переменными взаимодействия мы возьмем данные из статьи [Kalenborn C., Lessman C., 2013](https://yadi.sk/i/nlEQUoWKiqY0UA). Одна из частей анализа в данной статье выполнена на основе cross-section data (использованы усредненные данные за 2005 - 2010 гг.). Авторы изучают взаимосвязь уровня коррупции и демократии, предполагая, что ее характер зависит от значений показателя свободы прессы. Кратко о данных:\n",
    "* cpi - уровень коррупции: Corruption Perception Index. Непрерывная шкала от 0 до 10, где 10 означает наиболее высокий уровень коррупции. \n",
    "* dem - индекс демократии: Vanhanen’s democratization index. Непрерывная шкала от 0 до 100, где 100 означает максимальное значение уровня демократии. \n",
    "* fp - свобода прессы: Freedom House. Приведен к непрерывной шкале от 0 до 100, где 100 - наиболее высокое значение свободы прессы. \n",
    "* loggdppc - натуральный логарифм ВВП на душу населения. World Bank. \n",
    "* stab - уровень политической стабильности. Индекс построен на основе показателей \"Political Stability\" и \"Absence of Violence/Terrorism\" из the Worldwide Governance Indicators. Непрерывная шкала от -2.5 до 2.5, где 2.5 соответствует наиболее высокому уровню политической стабильности. \n",
    "* britcol - дамми-переменная, где 1 - бывшая британская колония. "
   ]
  },
  {
   "cell_type": "code",
   "execution_count": null,
   "metadata": {},
   "outputs": [],
   "source": [
    "import os\n",
    "import pandas as pd\n",
    "import statsmodels.formula.api as statf \n",
    "import seaborn as sb\n",
    "import numpy as np\n",
    "import matplotlib.pyplot as mpl\n",
    "%matplotlib inline"
   ]
  },
  {
   "cell_type": "markdown",
   "metadata": {},
   "source": [
    "Откроем массив данных для репликации результатов исследования - lab1.dta."
   ]
  },
  {
   "cell_type": "code",
   "execution_count": null,
   "metadata": {},
   "outputs": [],
   "source": [
    "lab1 = pd.read_stata('lab1.dta')"
   ]
  },
  {
   "cell_type": "markdown",
   "metadata": {},
   "source": [
    "Познакомимся с тем, как устроен массив данных."
   ]
  },
  {
   "cell_type": "code",
   "execution_count": null,
   "metadata": {},
   "outputs": [],
   "source": [
    "lab1.head(10)"
   ]
  },
  {
   "cell_type": "markdown",
   "metadata": {},
   "source": [
    "Описательные статистики переменных особенно важны перед оцениванием моделей с переменными взаимодействия. Возможно, нам понадобится некоторые алгебраические преобразования для более удобной интерпретации предельных эффектов. "
   ]
  },
  {
   "cell_type": "code",
   "execution_count": null,
   "metadata": {},
   "outputs": [],
   "source": [
    "lab1.describe()"
   ]
  },
  {
   "cell_type": "markdown",
   "metadata": {},
   "source": [
    "Оценим первую наиболее простую регрессионную модель без переменных взаимодействия. Проинтерпретируйте все оценки коэффициентов модели m1. "
   ]
  },
  {
   "cell_type": "code",
   "execution_count": null,
   "metadata": {},
   "outputs": [],
   "source": [
    "m1 = statf.ols(formula = \"cpi ~ dem + fp + loggdppc + britcol + stab\", data = lab1).fit()\n",
    "print(m1.summary())"
   ]
  },
  {
   "cell_type": "markdown",
   "metadata": {},
   "source": [
    "Рассмотрим, как различается уровень коррупции в группах стран с разным уровнем свободы прессы. Предварительно разделим страны на 2 группы: \"not free\" и \"free\". В качестве порогового значения для разделения возьмем 70 баллов по показателю \"свобода прессы\". "
   ]
  },
  {
   "cell_type": "code",
   "execution_count": null,
   "metadata": {},
   "outputs": [],
   "source": [
    "def fp_new(series): \n",
    "    if series <= 70: return 0 \n",
    "    elif series > 70: return 1\n",
    "\n",
    "lab1['groups'] = lab1['fp'].apply(fp_new)"
   ]
  },
  {
   "cell_type": "markdown",
   "metadata": {},
   "source": [
    "Модель 2 включает вместо непрерывной переменной уровня свободы прессы бинарный показатель \"groups\" в качестве предиктора. Проинтерпретируйте оценки коэффициентов модели m2."
   ]
  },
  {
   "cell_type": "code",
   "execution_count": null,
   "metadata": {},
   "outputs": [],
   "source": [
    "m2 = statf.ols(formula = \"cpi ~ dem + groups + loggdppc + britcol + stab\", data = lab1).fit()\n",
    "print(m2.summary())"
   ]
  },
  {
   "cell_type": "markdown",
   "metadata": {},
   "source": [
    "Тем не менее, данная модель не позволяет ответить на ключевой вопрос, которые ставили перед собой Kalenborn C., Lessman C. А именно, их интересовало, различается ли взаимосвязь коррупции и уровня демократии в странах с разными значениями свободы прессы? Для того, чтобы продвинуться в ответе на данный вопрос, представим следующий график. Какой предварительный вывод Вы можете сделать на основе данного графика?  "
   ]
  },
  {
   "cell_type": "code",
   "execution_count": null,
   "metadata": {},
   "outputs": [],
   "source": [
    "sb.lmplot('dem', 'cpi', hue = 'groups', data = lab1, ci = 95)"
   ]
  },
  {
   "cell_type": "markdown",
   "metadata": {},
   "source": [
    "Изменим спецификацию регрессионной модели так, чтобы она позволяла ответить на вопрос, как различается взаимосвязь коррупции и уровня демократии в двух группах стран (условно назовем их \"свободные\" и \"несвободные\"). Для этого нужно ввести переменную взаимодействия между предиктором \"dem\" и \"groups\". \n",
    "Проинтерпретируйте оценки коэффициентов в модели m3."
   ]
  },
  {
   "cell_type": "code",
   "execution_count": null,
   "metadata": {},
   "outputs": [],
   "source": [
    "m3 = statf.ols(formula = \"cpi ~ dem + groups + dem*groups + loggdppc + britcol + stab\", data = lab1).fit()\n",
    "print(m3.summary())"
   ]
  },
  {
   "cell_type": "markdown",
   "metadata": {},
   "source": [
    "Проиллюстрируем на графике различия между предельными эффектами демократии в зависимости от групп стран. Для этого нам предварительно понадобится \n",
    "* задать формулу для расчета предельных эффектов. Для этого мы \n",
    "\n",
    "1) извлечем оценки коэффициентов модели m3 (marg_effect)\n",
    "\n",
    "2) получим вектор уникальных значений переменной \"groups\" (values), которая является условием (то есть, от ее значений зависит предельный эффект демократии). При этом нужно учесть только числовые значения, пропущенные значения нам не нужны.\n",
    "\n",
    "* задать формулу для расчета стандартных ошибок"
   ]
  },
  {
   "cell_type": "code",
   "execution_count": null,
   "metadata": {},
   "outputs": [],
   "source": [
    "print(m3.params)\n",
    "print(m3.cov_params())"
   ]
  },
  {
   "cell_type": "code",
   "execution_count": null,
   "metadata": {},
   "outputs": [],
   "source": [
    "g = lab1.groups.unique()\n",
    "values = g[~np.isnan(g)]\n",
    "marg_effect = m3.params[1] + m3.params[3]*values\n",
    "Cov_m3 = np.asmatrix(m3.cov_params())\n",
    "se = (Cov_m3[1,1] + values**2*(Cov_m3[3,3]) + 2*values*Cov_m3[1,3])**(.5)\n",
    "from scipy.stats import norm\n",
    "fig, axes = mpl.subplots()\n",
    "mpl.errorbar(values, marg_effect, yerr=norm.ppf(0.975)*se, fmt='bD', capsize = 10)\n",
    "axes.set(xticks = [0,1])\n",
    "axes.set_ylabel('Effect of democracy on corruption')\n",
    "mpl.show()"
   ]
  },
  {
   "cell_type": "markdown",
   "metadata": {},
   "source": [
    "Теперь попробуем оценить модель, но уже с переменной взаимодействия между исходными непрерывными переменными \"dem\" и \"fp\", без деления стран на группы \"not free\" и \"free\". Какой вывод можно сделать на основе оценок данной модели m6? \n",
    "Предложите возможные преобразования для более удобной интерпретации и примените их при оценивании модели (в качестве дополнительной практики после занятия)."
   ]
  },
  {
   "cell_type": "code",
   "execution_count": null,
   "metadata": {},
   "outputs": [],
   "source": [
    "m4 = statf.ols(formula = \"cpi ~ dem + fp + dem*fp + loggdppc + britcol + stab\", data = lab1).fit()\n",
    "print(m4.summary())"
   ]
  },
  {
   "cell_type": "markdown",
   "metadata": {},
   "source": [
    "Покажем на графике, как изменяется предельный эффект демократии и его значимость в зависимости от \"условия\" (freedom of press). Проинтерпретируйте график. "
   ]
  },
  {
   "cell_type": "code",
   "execution_count": null,
   "metadata": {},
   "outputs": [],
   "source": [
    "cov_m4 = np.asmatrix(m4.cov_params())\n",
    "fp_values = np.linspace(lab1.fp.min(), lab1.fp.max())\n",
    "marg_effect_m4 = m4.params[1] + m4.params[3]*fp_values\n",
    "se2 = (cov_m4[1,1] + fp_values**2*(cov_m4[3,3]) + 2*fp_values*cov_m4[1,3])**(.5)\n",
    "fig, axes = mpl.subplots()\n",
    "mpl.plot(fp_values, marg_effect_m4, 'b')\n",
    "mpl.plot(fp_values, marg_effect_m4 - norm.ppf(0.975)*se2, 'b--')\n",
    "mpl.plot(fp_values, marg_effect_m4 + norm.ppf(0.975)*se2, 'b--')\n",
    "axes.set_xlabel('Freedom of press')\n",
    "axes.set_ylabel('Marginal effect of democracy on corruption')\n",
    "mpl.axhline(y=0, color ='r', linestyle = '--')\n",
    "mpl.title('Dependence of the marginal effect on freedom of press')\n",
    "mpl.show()"
   ]
  },
  {
   "cell_type": "markdown",
   "metadata": {},
   "source": [
    "Резюмируйте результаты проведенного анализа. "
   ]
  }
 ],
 "metadata": {
  "kernelspec": {
   "display_name": "Python 3",
   "language": "python",
   "name": "python3"
  },
  "language_info": {
   "codemirror_mode": {
    "name": "ipython",
    "version": 3
   },
   "file_extension": ".py",
   "mimetype": "text/x-python",
   "name": "python",
   "nbconvert_exporter": "python",
   "pygments_lexer": "ipython3",
   "version": "3.7.1"
  }
 },
 "nbformat": 4,
 "nbformat_minor": 2
}

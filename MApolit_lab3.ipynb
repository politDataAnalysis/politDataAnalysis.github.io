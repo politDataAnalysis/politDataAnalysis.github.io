{
 "cells": [
  {
   "cell_type": "markdown",
   "metadata": {},
   "source": [
    "# <font color='black'> Практическое занятие 3 </font>\n",
    "## <font color='black'> Анализ панельных данных. Модели с фиксированными эффектами (FE-models) и модели со случайными эффектами (RE-models) </font>\n",
    "На практическом занятии 3 мы рассмотрим модели со случайными эффектами, модели с фиксированными эффектами на временные периоды, а также модели, учитывающие разную взаимосвязь предиктора и зависимой переменной. \n",
    "Продолжим работать с той же базой данных:\n",
    "* country -  страна: массив содержит данные по 27 посткоммунистическим странам\n",
    "* period - период: данные усреднены по пятилеткам начиная с 1989 г. \n",
    "* fh_polity - индекс демократии, полученный на основе показателей Freedom House, Polity. Непрерывная шкала от 0 до 10, где 10 означает максимальное значение уровня демократии. \n",
    "* state_capacity - индекс государственной состоятельности. Приведен к непрерывной шкале от 0 до 10, где 10 - наиболее высокое значение государственной состоятельности. \n",
    "\n",
    "Подгрузим необходимые библиотеки и откроем массив \"lab2.dta\". "
   ]
  },
  {
   "cell_type": "code",
   "execution_count": null,
   "metadata": {},
   "outputs": [],
   "source": [
    "import pandas as pd\n",
    "import statsmodels.formula.api as statf \n",
    "import numpy as np\n",
    "import numpy.linalg as la\n",
    "import seaborn as sb \n",
    "!pip install linearmodels\n",
    "from linearmodels import PanelOLS\n",
    "from linearmodels import RandomEffects\n",
    "from scipy import stats"
   ]
  },
  {
   "cell_type": "code",
   "execution_count": null,
   "metadata": {},
   "outputs": [],
   "source": [
    "data = pd.read_stata(\"lab2.dta\")\n",
    "data.head(10)"
   ]
  },
  {
   "cell_type": "markdown",
   "metadata": {},
   "source": [
    "Оценим уже знакомую Вам модель с фиксированными эффектами на страны с внутригрупповым преобразованием. "
   ]
  },
  {
   "cell_type": "code",
   "execution_count": null,
   "metadata": {},
   "outputs": [],
   "source": [
    "data1 = data.set_index(['country', 'period'])\n",
    "model1 = PanelOLS.from_formula('fh_polity ~ state_capacity + EntityEffects', data = data1).fit()\n",
    "print(model1)"
   ]
  },
  {
   "cell_type": "markdown",
   "metadata": {},
   "source": [
    "Сравним полученные оценки с результатами оценивания модели со случайными эффектами. \n",
    "* Вспомните допущения данной модели и оцените критически \n",
    "* Какой метод оценивания используется в данном случае?"
   ]
  },
  {
   "cell_type": "code",
   "execution_count": null,
   "metadata": {},
   "outputs": [],
   "source": [
    "model2 = RandomEffects.from_formula('fh_polity ~ 1 + state_capacity', data = data1).fit()\n",
    "print(model2)"
   ]
  },
  {
   "cell_type": "markdown",
   "metadata": {},
   "source": [
    "Применим тест Хаусмана для проверки гипотезы об отсутствии корреляции между индивидуальными эффектами и предикторами. В Python отсутствует автоматическая функция реализации данного теста, поэтому зададим в явном виде статистику для проверки гипотезы и ее распределение. Проинтерпретируйте результаты тестирования."
   ]
  },
  {
   "cell_type": "code",
   "execution_count": null,
   "metadata": {},
   "outputs": [],
   "source": [
    "b_fe = model1.params\n",
    "b_re = model2.params\n",
    "b_re_new = np.asarray(b_re)\n",
    "b_re_new = np.delete(b_re_new, 0) \n",
    "\n",
    "cov_fe = model1.cov\n",
    "cov_re = model2.cov\n",
    "cov_re = np.asarray(model2.cov)\n",
    "cov_re\n",
    "cov_re_new = np.delete(np.delete(cov_re, 0, axis = 0), 0, 1)\n",
    "hausman = (b_fe - b_re_new).dot(la.inv(cov_fe - cov_re_new).dot(b_fe - b_re_new))\n",
    "df = b_fe.size\n",
    "pvalue = stats.chi2.sf(hausman, df)\n",
    "print('Chi-squared:', hausman, '\\n' 'P-value:', pvalue, '\\n' 'Degrees of freedom:', df)"
   ]
  },
  {
   "cell_type": "markdown",
   "metadata": {},
   "source": [
    "Следующая модель учитывает фиксированные эффекты на временные периоды. \n",
    "* Проинтерпретируйте хотя бы один коэффициент при временном периоде\n",
    "* Что теперь отражает оценка коэффициента при state_capacity? "
   ]
  },
  {
   "cell_type": "code",
   "execution_count": null,
   "metadata": {},
   "outputs": [],
   "source": [
    "model3 = statf.ols('fh_polity ~ state_capacity + C(period)', data).fit()\n",
    "print(model3.summary())"
   ]
  },
  {
   "cell_type": "markdown",
   "metadata": {},
   "source": [
    "Теперь оценим наименее экономную модель, с включением эффектов и на страны, и на временные периоды. Используем внутригрупповое преобразование. \n",
    "* Каковы ограничения указанной модели? \n",
    "* Что отражает оценка коэффициента при state_capacity? "
   ]
  },
  {
   "cell_type": "code",
   "execution_count": null,
   "metadata": {},
   "outputs": [],
   "source": [
    "model4 = PanelOLS.from_formula('fh_polity ~ state_capacity + EntityEffects + TimeEffects', data1).fit()\n",
    "print(model4)"
   ]
  },
  {
   "cell_type": "markdown",
   "metadata": {},
   "source": [
    "Проверим, можем ли мы ограничиться только эффектами на пространственные единицы. Для этого сравним две вложенные модели: только с пространственными эффектами, и twoway model.\n",
    "* Сделайте вывод на основе p-value. \n",
    "* Сопоставьте со своими содержательными соображениями, какая модель более предпочтительна. "
   ]
  },
  {
   "cell_type": "code",
   "execution_count": null,
   "metadata": {},
   "outputs": [],
   "source": [
    "model5 = statf.ols('fh_polity ~ state_capacity + C(country)', data).fit()\n",
    "model6 = statf.ols('fh_polity ~ state_capacity + C(country) + C(period)', data).fit()\n",
    "F = ((model6.rsquared - model5.rsquared)/(model6.params.size - model5.params.size))/((1-model6.rsquared)/(model6.nobs - model6.params.size))\n",
    "F\n",
    "pvalue = stats.f.sf(F, model6.params.size - model5.params.size, model6.nobs - model6.params.size)\n",
    "print('F-statistic:', F, '\\n' 'P-value:', pvalue, '\\n' 'df1:', model6.params.size - model5.params.size, '\\n' 'df2:', model6.nobs - model6.params.size )"
   ]
  },
  {
   "cell_type": "markdown",
   "metadata": {},
   "source": [
    "Проиллюстрируем, как можно учесть разницу в характере взаимосвязи гос. состоятельности и полит. режима. Проинтерпретируйте\n",
    "* оценку константы \n",
    "* оценку коэффициента при одной из дамми-переменных\n",
    "* оценку коэффициента при state_capacity\n",
    "* оценку коэффициента хотя бы при одной переменной взаимодействия дамми на пространственную единицу и state_capacity"
   ]
  },
  {
   "cell_type": "code",
   "execution_count": null,
   "metadata": {},
   "outputs": [],
   "source": [
    "model7 = statf.ols('fh_polity ~ C(country)*state_capacity', data).fit()\n",
    "print(model7.summary())"
   ]
  }
 ],
 "metadata": {
  "kernelspec": {
   "display_name": "Python 3",
   "language": "python",
   "name": "python3"
  },
  "language_info": {
   "codemirror_mode": {
    "name": "ipython",
    "version": 3
   },
   "file_extension": ".py",
   "mimetype": "text/x-python",
   "name": "python",
   "nbconvert_exporter": "python",
   "pygments_lexer": "ipython3",
   "version": "3.7.1"
  }
 },
 "nbformat": 4,
 "nbformat_minor": 2
}

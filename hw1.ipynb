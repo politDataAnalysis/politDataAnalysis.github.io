{
 "cells": [
  {
   "cell_type": "markdown",
   "metadata": {},
   "source": [
    "## <font color='black'> Методы анализа неоднородных данных и паттерн-анализ</font>\n",
    "## <font color='black'>Домашнее задание 1 </font>\n",
    "### <font color='black'>Задание 1 </font>\n",
    "Найдем для выборки 1; 3; 10; 8; 3 \n",
    "* среднее арифметическое\n",
    "* медиану\n",
    "* вариацию (дисперсию)\n",
    "* стандартное отклонение"
   ]
  },
  {
   "cell_type": "code",
   "execution_count": null,
   "metadata": {},
   "outputs": [],
   "source": [
    "data = [1,3,10,8,3]"
   ]
  },
  {
   "cell_type": "code",
   "execution_count": null,
   "metadata": {},
   "outputs": [],
   "source": [
    "import statistics as stat"
   ]
  },
  {
   "cell_type": "code",
   "execution_count": null,
   "metadata": {},
   "outputs": [],
   "source": [
    "stat.mean(data)"
   ]
  },
  {
   "cell_type": "code",
   "execution_count": null,
   "metadata": {},
   "outputs": [],
   "source": [
    "stat.median(data)"
   ]
  },
  {
   "cell_type": "code",
   "execution_count": null,
   "metadata": {},
   "outputs": [],
   "source": [
    "stat.variance(data)"
   ]
  },
  {
   "cell_type": "code",
   "execution_count": null,
   "metadata": {},
   "outputs": [],
   "source": [
    "stat.stdev(data)"
   ]
  },
  {
   "cell_type": "markdown",
   "metadata": {},
   "source": [
    "Построим по указанной выборке 95%-ый доверительный интервал для среднего: "
   ]
  },
  {
   "cell_type": "code",
   "execution_count": null,
   "metadata": {},
   "outputs": [],
   "source": [
    "import statsmodels.stats.api as sm"
   ]
  },
  {
   "cell_type": "code",
   "execution_count": null,
   "metadata": {},
   "outputs": [],
   "source": [
    "sm.DescrStatsW(data).tconfint_mean()"
   ]
  },
  {
   "cell_type": "markdown",
   "metadata": {},
   "source": [
    "Уровень доверительного интервала можно поменять, к примеру, рассмотрим 99%-ый доверительный интервал. Для этого в скобках нужно указать вероятность, которая остается на хвостах распределения, то есть, в нашем случае 0.01:"
   ]
  },
  {
   "cell_type": "code",
   "execution_count": null,
   "metadata": {},
   "outputs": [],
   "source": [
    "sm.DescrStatsW(data).tconfint_mean(0.01)"
   ]
  },
  {
   "cell_type": "markdown",
   "metadata": {},
   "source": [
    "Рассмотрим далее второе задание: \n",
    "В большом городе проводится исследование емкости рынка fastfood’а. 180 случайно выбранным респондентам задан вопрос о том,\n",
    "сколько раз они воспользовались услугами fast-food’а в течение\n",
    "последних семи дней. Оказалось, что среднее число раз по выборке равно 0.82. Вычисленное по выборке стандартное отклонение\n",
    "числа визитов в пункты быстрого питания равно 0.48.\n",
    "Построим по указанным данным 95%-ый доверительный интервал, задав самостоятельно границы: "
   ]
  },
  {
   "cell_type": "markdown",
   "metadata": {},
   "source": [
    "Для начала поймем, как Python рассчитывает квантили. Для 95%-ого доверительного интервала нам нужен квантиль уровня 0.975 (по 2.5% - на каждом хвосте распределения)."
   ]
  },
  {
   "cell_type": "code",
   "execution_count": null,
   "metadata": {},
   "outputs": [],
   "source": [
    "import scipy.stats\n",
    "scipy.stats.norm.ppf(0.975)"
   ]
  },
  {
   "cell_type": "markdown",
   "metadata": {},
   "source": [
    "Теперь зададим границы, используя полученный квантиль, рассчитанный по нормальному распределению:  "
   ]
  },
  {
   "cell_type": "code",
   "execution_count": null,
   "metadata": {},
   "outputs": [],
   "source": [
    "import numpy as np\n",
    "(0.82 - 0.48*scipy.stats.norm.ppf(0.975)/np.sqrt(180), 0.82 + 0.48*scipy.stats.norm.ppf(0.975)/np.sqrt(180))"
   ]
  },
  {
   "cell_type": "markdown",
   "metadata": {},
   "source": [
    "Давайте воспроизведем таким же образом доверительный интервал для выборки из 5 наблюдений, построенный выше через автоматическую функцию в Python. Используем 99%-ый интервал. Так как выборка маленькая, нам понадобится распределение Стьюдента, то есть, вместо norm указываем t:"
   ]
  },
  {
   "cell_type": "code",
   "execution_count": null,
   "metadata": {},
   "outputs": [],
   "source": [
    "(stat.mean(data) - stat.stdev(data)*scipy.stats.t.ppf(0.995, df = len(data)-1)/np.sqrt(len(data)), stat.mean(data) + stat.stdev(data)*scipy.stats.t.ppf(0.995, df = len(data)-1)/np.sqrt(len(data)))"
   ]
  }
 ],
 "metadata": {
  "kernelspec": {
   "display_name": "Python 3",
   "language": "python",
   "name": "python3"
  },
  "language_info": {
   "codemirror_mode": {
    "name": "ipython",
    "version": 3
   },
   "file_extension": ".py",
   "mimetype": "text/x-python",
   "name": "python",
   "nbconvert_exporter": "python",
   "pygments_lexer": "ipython3",
   "version": "3.7.1"
  }
 },
 "nbformat": 4,
 "nbformat_minor": 2
}
